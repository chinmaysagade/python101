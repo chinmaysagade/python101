{
 "cells": [
  {
   "cell_type": "markdown",
   "metadata": {},
   "source": [
    "#### Exercise-1:\n",
    "Suppose you have a cloud platform subscription where you have to pay for resources as per consumption. "
   ]
  },
  {
   "cell_type": "markdown",
   "metadata": {},
   "source": [
    "| resource_type | consumption_units | rate/unit |\n",
    "|----|---|---|\n",
    "| storage | 20 |10\n",
    "| compute | 25 |4\n",
    "| ip | 3 | 2"
   ]
  },
  {
   "cell_type": "markdown",
   "metadata": {},
   "source": [
    "What is the best data type to store this information? Create the variable of that data type."
   ]
  },
  {
   "cell_type": "code",
   "execution_count": 2,
   "metadata": {
    "collapsed": true
   },
   "outputs": [],
   "source": [
    "## Answer-1"
   ]
  },
  {
   "cell_type": "markdown",
   "metadata": {},
   "source": [
    "#### Exercise-2:\n",
    "Compute the total cost of all the resources in above scenario.  \n",
    "$$total\\_cost = \\sum{consumption*rate} $$"
   ]
  },
  {
   "cell_type": "code",
   "execution_count": 4,
   "metadata": {
    "collapsed": true
   },
   "outputs": [],
   "source": [
    "## Answer-2"
   ]
  },
  {
   "cell_type": "markdown",
   "metadata": {},
   "source": [
    "#### Exercise-3:\n",
    "Consider code below for nested loop:"
   ]
  },
  {
   "cell_type": "code",
   "execution_count": 9,
   "metadata": {
    "collapsed": false
   },
   "outputs": [
    {
     "name": "stdout",
     "output_type": "stream",
     "text": [
      "Loop coordinates i:0 and j:1\n",
      "Loop coordinates i:0 and j:2\n",
      "Loop coordinates i:1 and j:1\n",
      "Loop coordinates i:1 and j:2\n",
      "Loop coordinates i:2 and j:1\n",
      "Loop coordinates i:2 and j:2\n",
      "Loop coordinates i:3 and j:1\n",
      "Loop coordinates i:3 and j:2\n",
      "Loop coordinates i:4 and j:1\n",
      "Loop coordinates i:4 and j:2\n"
     ]
    }
   ],
   "source": [
    "for i in range(0,5):\n",
    "    for j in range(1,3):\n",
    "        print(\"Loop coordinates i:{} and j:{}\".format(i,j))"
   ]
  },
  {
   "cell_type": "markdown",
   "metadata": {},
   "source": [
    "Considering a more general case where outer loop runs m times and inner loop runs n times, what is the general formula to find out how many total iterations would this setup perform."
   ]
  },
  {
   "cell_type": "code",
   "execution_count": null,
   "metadata": {
    "collapsed": true
   },
   "outputs": [],
   "source": [
    "# Answer-3"
   ]
  },
  {
   "cell_type": "markdown",
   "metadata": {},
   "source": [
    "#### Exercise-4\n",
    "Print name element of each item in below list of dictionary.The output should be :  \n",
    "subject1  \n",
    "subject2  \n",
    "subject3  "
   ]
  },
  {
   "cell_type": "code",
   "execution_count": 17,
   "metadata": {
    "collapsed": true
   },
   "outputs": [],
   "source": [
    "records = [{'name':'subject1','age':12},{'name':'subject2','age':20},{'name':'subject3','age':15}]"
   ]
  },
  {
   "cell_type": "code",
   "execution_count": 20,
   "metadata": {
    "collapsed": true
   },
   "outputs": [],
   "source": [
    "#Answer-4"
   ]
  },
  {
   "cell_type": "markdown",
   "metadata": {},
   "source": [
    "#### Exercise-5\n",
    "Calculate hamming distance between two strings, each having fixed length of 4.  \n",
    "Def from wikipedia:  \n",
    "The Hamming distance between two strings of equal length is the number of positions at which the corresponding symbols are different. In other words, it measures the minimum number of substitutions required to change one string into the other, or the minimum number of errors that could have transformed one string into the other. "
   ]
  },
  {
   "cell_type": "code",
   "execution_count": 21,
   "metadata": {
    "collapsed": true
   },
   "outputs": [],
   "source": [
    "#Answer-5"
   ]
  }
 ],
 "metadata": {
  "kernelspec": {
   "display_name": "Python [Root]",
   "language": "python",
   "name": "Python [Root]"
  },
  "language_info": {
   "codemirror_mode": {
    "name": "ipython",
    "version": 3
   },
   "file_extension": ".py",
   "mimetype": "text/x-python",
   "name": "python",
   "nbconvert_exporter": "python",
   "pygments_lexer": "ipython3",
   "version": "3.5.2"
  }
 },
 "nbformat": 4,
 "nbformat_minor": 0
}
