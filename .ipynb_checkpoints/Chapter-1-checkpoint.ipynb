{
 "cells": [
  {
   "cell_type": "markdown",
   "metadata": {},
   "source": [
    "<img src=\"https://www.raspberrypi.org/documentation/usage/python/images/python-logo.png\",width=360,height=360>"
   ]
  },
  {
   "cell_type": "markdown",
   "metadata": {},
   "source": [
    "### Introduction to  Python\n",
    "Python is an easy and fully functional programming language which is highly useful for scripting and rapid application development. It's syntax and semantics makes it   flexible to use for one-off scripting or do large scale enterprise frameworks. The original python was released in 1991 (4 yrs before java).\n",
    "In python, you can do both procedure-oriented as well as object-oriented programming. \n",
    "Python is open-sourced and you can find the source at:  \n",
    "https://github.com/python/cpython/\n",
    "\n",
    "Python supports procedure-oriented programming as well as object-oriented programming. In procedure-oriented languages, the program is built around procedures or functions which are nothing but reusable pieces of programs. In object-oriented languages, the program is built around objects which combine data and functionality. Python has a very powerful but simplistic way of doing OOP, especially when compared to big languages like C++ or Java.\n",
    "\n",
    "\n",
    "##### Background\n",
    "<img src=\"https://adainitiativedotorg.files.wordpress.com/2014/09/guido_van_rossum_headshot.jpg\",width=150,height=150,align=\"left\" style=\"float:left;margin-right:2%\">\n",
    "    Python was designed by Guido van Rossum, and is mostly influenced by another language called ABC. The first release of python was in 1991.<br/>\n",
    "The language is named after the BBC show “Monty Python’s Flying Circus” and has nothing to do with reptiles."
   ]
  },
  {
   "cell_type": "markdown",
   "metadata": {},
   "source": [
    "#### Popular python frameworks\n",
    "Web Development: Django, Pyramid, Bottle, Tornado, Flask, web2py  \n",
    "GUI Development: tkInter, PyGObject, PyQt, PySide, Kivy, wxPython  \n",
    "Scientific and Numeric: SciPy, Pandas, IPython  \n",
    "Software Development: Buildbot, Trac, Roundup  \n",
    "System Administration: Ansible, Salt, OpenStack  "
   ]
  },
  {
   "cell_type": "markdown",
   "metadata": {},
   "source": [
    "#### Python Interpreter\n",
    "Python is an interpreted language. What it means is that you write the python code and then pass it to an executable (python binary) which generates the output directly, without generating any intermediate binary code.  \n"
   ]
  },
  {
   "cell_type": "markdown",
   "metadata": {},
   "source": [
    "The python binary is a program. The standard python interpreter is cpython. It's called cpython because it was written in C. Python has several other interpreters like pypy,jython,iron python to name a few. Skulpt is interpreter implemented in java script and can be run in browser. cpython is the original one.  "
   ]
  },
  {
   "cell_type": "code",
   "execution_count": 1,
   "metadata": {
    "collapsed": false
   },
   "outputs": [
    {
     "data": {
      "text/plain": [
       "'CPython'"
      ]
     },
     "execution_count": 1,
     "metadata": {},
     "output_type": "execute_result"
    }
   ],
   "source": [
    "import platform \n",
    "platform.python_implementation()"
   ]
  },
  {
   "cell_type": "markdown",
   "metadata": {
    "collapsed": true
   },
   "source": [
    "Now that we have understood how python is working a little bit, let's walk back a little on what intrepreted language means. Any language can have interpreters and compilers, infact most of them have both.  \n",
    "In reality, Python combines both interpreter and compiler for efficiency. In this way, Python is actually a hybrid language (Java is another example in this category).CPython creates .pyc for impoted files which are cached bytecode files. If a source file is not imported, then no pyc file is created, but there are ways to generate byte codes."
   ]
  },
  {
   "cell_type": "markdown",
   "metadata": {},
   "source": [
    "### Python versions\n",
    "Python 2.x is legacy, Python 3.x is the present and future of the language.  \n",
    "Guido van Rossum (the original creator of the Python language) decided to clean up Python 2.x properly, with less regard for backwards compatibility than is the case for new releases in the 2.x range. The most drastic improvement is the better Unicode support (with all text strings being Unicode by default) as well as saner bytes/Unicode separation."
   ]
  },
  {
   "cell_type": "markdown",
   "metadata": {},
   "source": [
    "This course is developed keeping python3 in mind."
   ]
  },
  {
   "cell_type": "markdown",
   "metadata": {
    "collapsed": true
   },
   "source": [
    "#### PEP"
   ]
  },
  {
   "cell_type": "markdown",
   "metadata": {},
   "source": [
    "PEPs are Python Enhancement Proposals. They describe changes to Python itself, or the standards around it.  \n",
    "Some of the notable PEP's are:  \n",
    "PEP0 : Index : https://www.python.org/dev/peps/  \n",
    "PEP8 : Style Guide : https://www.python.org/dev/peps/pep-0008/  \n",
    "PEP20: The Zen of Python : https://www.python.org/dev/peps/pep-0020/  \n",
    "\n"
   ]
  },
  {
   "cell_type": "code",
   "execution_count": 2,
   "metadata": {
    "collapsed": false
   },
   "outputs": [
    {
     "name": "stdout",
     "output_type": "stream",
     "text": [
      "The Zen of Python, by Tim Peters\n",
      "\n",
      "Beautiful is better than ugly.\n",
      "Explicit is better than implicit.\n",
      "Simple is better than complex.\n",
      "Complex is better than complicated.\n",
      "Flat is better than nested.\n",
      "Sparse is better than dense.\n",
      "Readability counts.\n",
      "Special cases aren't special enough to break the rules.\n",
      "Although practicality beats purity.\n",
      "Errors should never pass silently.\n",
      "Unless explicitly silenced.\n",
      "In the face of ambiguity, refuse the temptation to guess.\n",
      "There should be one-- and preferably only one --obvious way to do it.\n",
      "Although that way may not be obvious at first unless you're Dutch.\n",
      "Now is better than never.\n",
      "Although never is often better than *right* now.\n",
      "If the implementation is hard to explain, it's a bad idea.\n",
      "If the implementation is easy to explain, it may be a good idea.\n",
      "Namespaces are one honking great idea -- let's do more of those!\n"
     ]
    }
   ],
   "source": [
    "import this"
   ]
  },
  {
   "cell_type": "markdown",
   "metadata": {},
   "source": [
    "#### Final words on native installation\n",
    "If you want to install python on personal machines, the easiest way to get most of the packages is to install anaconda distribution.  \n",
    "https://www.anaconda.com/download/#macos  \n",
    "If you also prefer to use an IDE, pycharm is one the best out there and they have a free community version.  \n",
    "https://www.jetbrains.com/pycharm/download/#section=mac"
   ]
  },
  {
   "cell_type": "code",
   "execution_count": null,
   "metadata": {
    "collapsed": true
   },
   "outputs": [],
   "source": []
  }
 ],
 "metadata": {
  "anaconda-cloud": {},
  "kernelspec": {
   "display_name": "Python [Root]",
   "language": "python",
   "name": "Python [Root]"
  },
  "language_info": {
   "codemirror_mode": {
    "name": "ipython",
    "version": 3
   },
   "file_extension": ".py",
   "mimetype": "text/x-python",
   "name": "python",
   "nbconvert_exporter": "python",
   "pygments_lexer": "ipython3",
   "version": "3.5.2"
  }
 },
 "nbformat": 4,
 "nbformat_minor": 0
}
