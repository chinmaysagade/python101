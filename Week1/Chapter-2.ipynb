{
 "cells": [
  {
   "cell_type": "markdown",
   "metadata": {},
   "source": [
    "## Variables\n",
    "A variable is something which can change. Variables are pointers to memory locations which contains the values like numbers or strings. In python, the variable naming rules are as follows:  \n",
    "1) The start character can be the underscore \"_\" or a capital or lower case letter.  \n",
    "2) The letters following the start character can be anything which is permitted as a start character plus the digits.  \n",
    "3) Variables  are case-sensitive!  \n",
    "4) Python keywords are not allowed as identifier names!  "
   ]
  },
  {
   "cell_type": "code",
   "execution_count": 3,
   "metadata": {
    "collapsed": false
   },
   "outputs": [
    {
     "name": "stdout",
     "output_type": "stream",
     "text": [
      "42\n"
     ]
    }
   ],
   "source": [
    "i = 42\n",
    "print(i)"
   ]
  },
  {
   "cell_type": "markdown",
   "metadata": {},
   "source": [
    "#### Keywords\n",
    "No identifier can have the same name as one of the Python keywords: \n",
    "and, as, assert, break, class, continue, def, del, elif, else, except, exec, finally, for, from, global, if, import, in, is, lambda, not, or, pass, print, raise, return, try, while, with, yield"
   ]
  },
  {
   "cell_type": "markdown",
   "metadata": {},
   "source": [
    "## Operators\n",
    "Operators are special symbols in Python that carry out arithmetic or logical computation. The value that the operator operates on is called the operand.\n",
    "\n",
    "#### Arithmatic\n",
    "Arithmetic operators are used to perform mathematical operations like addition, subtraction, multiplication etc.\n",
    "\n",
    "| Symbol | Task Performed |\n",
    "|----|---|\n",
    "| +  | Addition |\n",
    "| -  | Subtraction |\n",
    "| /  | division |\n",
    "| // | floor division |\n",
    "| %  | mod |\n",
    "| *  | multiplication |\n",
    "| **  | to the power of |"
   ]
  },
  {
   "cell_type": "code",
   "execution_count": 4,
   "metadata": {
    "collapsed": false
   },
   "outputs": [
    {
     "name": "stdout",
     "output_type": "stream",
     "text": [
      "x + y = 19\n",
      "x - y = 11\n",
      "x * y = 60\n",
      "x / y = 3.75\n",
      "x // y = 3\n",
      "x ** y = 50625\n"
     ]
    }
   ],
   "source": [
    "x = 15\n",
    "y = 4\n",
    "\n",
    "# Output: x + y = 19\n",
    "print('x + y =',x+y)\n",
    "\n",
    "# Output: x - y = 11\n",
    "print('x - y =',x-y)\n",
    "\n",
    "# Output: x * y = 60\n",
    "print('x * y =',x*y)\n",
    "\n",
    "# Output: x / y = 3.75\n",
    "print('x / y =',x/y)\n",
    "\n",
    "# Output: x // y = 3\n",
    "print('x // y =',x//y)\n",
    "\n",
    "# Output: x ** y = 50625\n",
    "print('x ** y =',x**y)"
   ]
  },
  {
   "cell_type": "markdown",
   "metadata": {},
   "source": [
    "#### Relational (comparision)\n",
    "| Symbol | Task Performed |\n",
    "|----|---|\n",
    "| == | True, if it is equal |\n",
    "| !=  | True, if not equal to |\n",
    "| < | less than |\n",
    "| > | greater than |\n",
    "| <=  | less than or equal to |\n",
    "| >=  | greater than or equal to |"
   ]
  },
  {
   "cell_type": "markdown",
   "metadata": {},
   "source": [
    "x = 10\n",
    "y = 12\n",
    "\n",
    "Output: x > y is False\n",
    "print('x > y  is',x>y)\n",
    "\n",
    "Output: x < y is True\n",
    "print('x < y  is',x<y)\n",
    "\n",
    "Output: x == y is False\n",
    "print('x == y is',x==y)\n",
    "\n",
    "Output: x != y is True\n",
    "print('x != y is',x!=y)\n",
    "\n",
    "Output: x >= y is False\n",
    "print('x >= y is',x>=y)\n",
    "\n",
    "Output: x <= y is True\n",
    "print('x <= y is',x<=y)"
   ]
  },
  {
   "cell_type": "markdown",
   "metadata": {},
   "source": [
    "#### Bitwise Operators\n",
    "| Symbol | Task Performed |Description\n",
    "|----|---|----------------|-----------\n",
    "| &  | Logical And |copies a bit to the result if it exists in both operands\n",
    "| l  | Logical OR |copies a bit if it exists in either operand\n",
    "| ^  | XOR |copies the bit if it is set in one operand but not both\n",
    "| ~  | Negate | flip the bits\n",
    "| >>  | Right shift | left operands value is moved right by the number of bits specified by the right operand\n",
    "| <<  | Left shift |left operands value is moved left by the number of bits specified by the right operand"
   ]
  },
  {
   "cell_type": "code",
   "execution_count": 2,
   "metadata": {
    "collapsed": false
   },
   "outputs": [
    {
     "name": "stdout",
     "output_type": "stream",
     "text": [
      "Line 1 - Value of c is  12\n",
      "Line 2 - Value of c is  61\n",
      "Line 3 - Value of c is  49\n",
      "Line 4 - Value of c is  -61\n",
      "Line 5 - Value of c is  240\n",
      "Line 6 - Value of c is  15\n"
     ]
    }
   ],
   "source": [
    "a = 60            # 60 = 0011 1100 \n",
    "b = 13            # 13 = 0000 1101 \n",
    "c = 0\n",
    "\n",
    "c = a & b;        # 12 = 0000 1100\n",
    "print(\"Line 1 - Value of c is \", c)\n",
    "\n",
    "c = a | b;        # 61 = 0011 1101 \n",
    "print(\"Line 2 - Value of c is \", c)\n",
    "\n",
    "c = a ^ b;        # 49 = 0011 0001\n",
    "print(\"Line 3 - Value of c is \", c)\n",
    "\n",
    "c = ~a;           # -61 = 1100 0011\n",
    "print(\"Line 4 - Value of c is \", c)\n",
    "\n",
    "c = a << 2;       # 240 = 1111 0000\n",
    "print(\"Line 5 - Value of c is \", c)\n",
    "\n",
    "c = a >> 2;       # 15 = 0000 1111\n",
    "print(\"Line 6 - Value of c is \", c)"
   ]
  },
  {
   "cell_type": "markdown",
   "metadata": {},
   "source": [
    "## Data Types\n",
    "Data types are common and essential component of any programming language. The goal of a computer program is to work with variables and data types declares the category and therefore , to much extent our intentions on how we plan to use the variable.\n",
    "Some languages will require you to explicitly declare the data type for each variable and use operations which are supported by those types, and they enforce the compliance at compilation time. These are called statically typed languages. Examples are C/C++ or Java.\n",
    "Some languages will try to figure out the best type that it thinks the varaible falls into and these are called dynamically typed languages. Python falls under this category.\n",
    "In python, every value has a data type, but it's not mandatory to mention them, python's interpreter can keep track of them for you. Let's get familier with frequently used types."
   ]
  },
  {
   "cell_type": "markdown",
   "metadata": {},
   "source": [
    "### Strings\n",
    "The first data type we are going to see in python is string.String are used to store alphanumeric characters.   \n",
    "Strings in python are represented using single/double or triple quotes.  \n",
    "The **print** function is used to display contents onto screen.  \n",
    "Feel free to experiment with below cell by changing the content."
   ]
  },
  {
   "cell_type": "code",
   "execution_count": 12,
   "metadata": {
    "collapsed": false
   },
   "outputs": [
    {
     "name": "stdout",
     "output_type": "stream",
     "text": [
      "Hello World!\n"
     ]
    }
   ],
   "source": [
    "b='Hello World!'\n",
    "print(b)"
   ]
  },
  {
   "cell_type": "markdown",
   "metadata": {},
   "source": [
    "The quotes can be nested to more readable representation."
   ]
  },
  {
   "cell_type": "code",
   "execution_count": 13,
   "metadata": {
    "collapsed": false
   },
   "outputs": [
    {
     "name": "stdout",
     "output_type": "stream",
     "text": [
      " Let's play! \n"
     ]
    }
   ],
   "source": [
    "b=\" Let's play! \"\n",
    "print(b)"
   ]
  },
  {
   "cell_type": "markdown",
   "metadata": {},
   "source": [
    "Finally, triple quotes is for multi-line comments."
   ]
  },
  {
   "cell_type": "code",
   "execution_count": 15,
   "metadata": {
    "collapsed": false
   },
   "outputs": [
    {
     "name": "stdout",
     "output_type": "stream",
     "text": [
      " \n",
      "They're two they're four they're six they're eight \n",
      "Shunting trucks and hauling freight \n",
      "red and green and brown and blue \n",
      "they're the really useful crew \n",
      "\n"
     ]
    }
   ],
   "source": [
    "paragraph = \"\"\" \n",
    "They're two they're four they're six they're eight \n",
    "Shunting trucks and hauling freight \n",
    "red and green and brown and blue \n",
    "they're the really useful crew \n",
    "\"\"\"\n",
    "print(paragraph)"
   ]
  },
  {
   "cell_type": "markdown",
   "metadata": {},
   "source": [
    "##### Adding strings"
   ]
  },
  {
   "cell_type": "code",
   "execution_count": 16,
   "metadata": {
    "collapsed": false
   },
   "outputs": [
    {
     "name": "stdout",
     "output_type": "stream",
     "text": [
      "Hello world!\n"
     ]
    }
   ],
   "source": [
    "a=\"Hello\"\n",
    "b=\" \"\n",
    "c=\"world!\"\n",
    "print(a+b+c)"
   ]
  },
  {
   "cell_type": "markdown",
   "metadata": {},
   "source": [
    "Python provides a function named type which tells you the data type of the variable"
   ]
  },
  {
   "cell_type": "code",
   "execution_count": 18,
   "metadata": {
    "collapsed": false
   },
   "outputs": [
    {
     "data": {
      "text/plain": [
       "str"
      ]
     },
     "execution_count": 18,
     "metadata": {},
     "output_type": "execute_result"
    }
   ],
   "source": [
    "type(b)"
   ]
  },
  {
   "cell_type": "markdown",
   "metadata": {},
   "source": [
    "### Numbers"
   ]
  },
  {
   "cell_type": "markdown",
   "metadata": {},
   "source": [
    "Python has set of types to represent various numeric types: * integers , floating point and complex numbers*."
   ]
  },
  {
   "cell_type": "code",
   "execution_count": 5,
   "metadata": {
    "collapsed": false
   },
   "outputs": [
    {
     "name": "stdout",
     "output_type": "stream",
     "text": [
      "3\n"
     ]
    }
   ],
   "source": [
    "a=1\n",
    "b=2\n",
    "print(a+b)"
   ]
  },
  {
   "cell_type": "code",
   "execution_count": 7,
   "metadata": {
    "collapsed": false
   },
   "outputs": [
    {
     "name": "stdout",
     "output_type": "stream",
     "text": [
      "<class 'float'>\n"
     ]
    }
   ],
   "source": [
    "c=0.01\n",
    "print(type(c))"
   ]
  },
  {
   "cell_type": "code",
   "execution_count": 1,
   "metadata": {
    "collapsed": false
   },
   "outputs": [
    {
     "name": "stdout",
     "output_type": "stream",
     "text": [
      "<class 'complex'>\n",
      "(-64+0j)\n",
      "(1+1j)\n"
     ]
    }
   ],
   "source": [
    "d=0+8j\n",
    "print(type(d))\n",
    "e=d*d\n",
    "print(e)\n",
    "com=complex(1.0, 1)\n",
    "print(com)"
   ]
  },
  {
   "cell_type": "code",
   "execution_count": 16,
   "metadata": {
    "collapsed": false
   },
   "outputs": [
    {
     "name": "stdout",
     "output_type": "stream",
     "text": [
      "<class 'int'>\n",
      "<class 'float'>\n",
      "<class 'float'>\n",
      "0.01\n",
      "<class 'float'>\n"
     ]
    }
   ],
   "source": [
    "print(type(a))\n",
    "print(type(a/b))\n",
    "print(type(0.01))\n",
    "print(0.01*a)\n",
    "print(type(0.01*a))"
   ]
  },
  {
   "cell_type": "markdown",
   "metadata": {},
   "source": [
    "Type mismatches:"
   ]
  },
  {
   "cell_type": "code",
   "execution_count": 14,
   "metadata": {
    "collapsed": false
   },
   "outputs": [
    {
     "ename": "TypeError",
     "evalue": "Can't convert 'int' object to str implicitly",
     "output_type": "error",
     "traceback": [
      "\u001b[0;31m---------------------------------------------------------------------------\u001b[0m",
      "\u001b[0;31mTypeError\u001b[0m                                 Traceback (most recent call last)",
      "\u001b[0;32m<ipython-input-14-aaabe1739637>\u001b[0m in \u001b[0;36m<module>\u001b[0;34m()\u001b[0m\n\u001b[0;32m----> 1\u001b[0;31m \u001b[0mprint\u001b[0m\u001b[0;34m(\u001b[0m\u001b[0;34m\"the value of a is: \"\u001b[0m\u001b[0;34m+\u001b[0m \u001b[0ma\u001b[0m\u001b[0;34m)\u001b[0m\u001b[0;34m\u001b[0m\u001b[0m\n\u001b[0m",
      "\u001b[0;31mTypeError\u001b[0m: Can't convert 'int' object to str implicitly"
     ]
    }
   ],
   "source": [
    "print(\"the value of a is: \"+ a)"
   ]
  },
  {
   "cell_type": "code",
   "execution_count": 15,
   "metadata": {
    "collapsed": false
   },
   "outputs": [
    {
     "name": "stdout",
     "output_type": "stream",
     "text": [
      "the value of a is: 1\n"
     ]
    }
   ],
   "source": [
    "print(\"the value of a is: \"+ str(a))"
   ]
  },
  {
   "cell_type": "markdown",
   "metadata": {},
   "source": [
    "### Boolean\n",
    "Booleans represent logical values"
   ]
  },
  {
   "cell_type": "code",
   "execution_count": 17,
   "metadata": {
    "collapsed": false
   },
   "outputs": [
    {
     "name": "stdout",
     "output_type": "stream",
     "text": [
      "True\n"
     ]
    }
   ],
   "source": [
    "print(1==1)"
   ]
  },
  {
   "cell_type": "code",
   "execution_count": 18,
   "metadata": {
    "collapsed": false
   },
   "outputs": [
    {
     "name": "stdout",
     "output_type": "stream",
     "text": [
      "False\n"
     ]
    }
   ],
   "source": [
    "result=False\n",
    "print(result)"
   ]
  },
  {
   "cell_type": "markdown",
   "metadata": {},
   "source": [
    "Booleans can be treated as numbers, True is 1 and False is 0"
   ]
  },
  {
   "cell_type": "code",
   "execution_count": 20,
   "metadata": {
    "collapsed": false
   },
   "outputs": [
    {
     "name": "stdout",
     "output_type": "stream",
     "text": [
      "True\n"
     ]
    }
   ],
   "source": [
    "print(0==False)"
   ]
  },
  {
   "cell_type": "code",
   "execution_count": 22,
   "metadata": {
    "collapsed": false
   },
   "outputs": [
    {
     "name": "stdout",
     "output_type": "stream",
     "text": [
      "2\n"
     ]
    }
   ],
   "source": [
    "print(True+True)"
   ]
  }
 ],
 "metadata": {
  "anaconda-cloud": {},
  "kernelspec": {
   "display_name": "Python [Root]",
   "language": "python",
   "name": "Python [Root]"
  },
  "language_info": {
   "codemirror_mode": {
    "name": "ipython",
    "version": 3
   },
   "file_extension": ".py",
   "mimetype": "text/x-python",
   "name": "python",
   "nbconvert_exporter": "python",
   "pygments_lexer": "ipython3",
   "version": "3.5.2"
  }
 },
 "nbformat": 4,
 "nbformat_minor": 2
}
