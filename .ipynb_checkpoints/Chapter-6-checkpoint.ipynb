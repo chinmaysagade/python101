{
 "cells": [
  {
   "cell_type": "markdown",
   "metadata": {},
   "source": [
    "## Files and directories and databases\n",
    "In this module, we will see how to read/write text files in python and also how to interact with sqlite3 database."
   ]
  },
  {
   "cell_type": "markdown",
   "metadata": {},
   "source": [
    "#### Reading files\n",
    "Python has inbuilt convinient methods for working with files. To read a file, we need to open it. In the below cell, \"r\" is the mode of the operation and means that we will open the file in read-only mode.The other available modes are \"w\" for write/overwrite, \"a\" for append and \"r+\" which denotes both read and write.If the file is not present in the path passed to open, it will raise an exception.  \n",
    "In Python, a file can either be text or binary. Text files are sequence of character types.  A text file will have a line terminator and a field delimiter. The default line terminator is  '\\n' and default filed delimter is a space."
   ]
  },
  {
   "cell_type": "code",
   "execution_count": 5,
   "metadata": {
    "collapsed": true
   },
   "outputs": [],
   "source": [
    "a=open(\"gravitational_waves.txt\",\"r\")"
   ]
  },
  {
   "cell_type": "code",
   "execution_count": 6,
   "metadata": {
    "collapsed": false
   },
   "outputs": [
    {
     "name": "stdout",
     "output_type": "stream",
     "text": [
      "<class '_io.TextIOWrapper'>\n"
     ]
    }
   ],
   "source": [
    "print(type(a))"
   ]
  },
  {
   "cell_type": "markdown",
   "metadata": {},
   "source": [
    "###### To read all the contents of the file at once, you can call the read method:"
   ]
  },
  {
   "cell_type": "code",
   "execution_count": 7,
   "metadata": {
    "collapsed": false
   },
   "outputs": [
    {
     "name": "stdout",
     "output_type": "stream",
     "text": [
      "Gravitational waves are ripples in the curvature of spacetime that are generated in certain gravitational interactions and propagate as waves outward from their source at the speed of light. \n",
      "On February 11, 2016, the LIGO and Virgo Scientific Collaboration announced they had made the first observation of gravitational waves. \n",
      "In 2017, the Nobel Prize in Physics was awarded to Rainer Weiss, Kip Thorne and Barry Barish for their role in the detection of gravitational waves.[16][17][18]\n"
     ]
    }
   ],
   "source": [
    "print(a.read())"
   ]
  },
  {
   "cell_type": "markdown",
   "metadata": {},
   "source": [
    "###### For reading just one line, call the readline method:"
   ]
  },
  {
   "cell_type": "code",
   "execution_count": 8,
   "metadata": {
    "collapsed": false
   },
   "outputs": [
    {
     "name": "stdout",
     "output_type": "stream",
     "text": [
      "\n",
      "\n",
      "\n"
     ]
    }
   ],
   "source": [
    "print(a.readline())\n",
    "print(a.readline())\n",
    "print(a.readline())"
   ]
  },
  {
   "cell_type": "markdown",
   "metadata": {},
   "source": [
    "###### to read entire contents of file line by line"
   ]
  },
  {
   "cell_type": "code",
   "execution_count": 12,
   "metadata": {
    "collapsed": false
   },
   "outputs": [
    {
     "name": "stdout",
     "output_type": "stream",
     "text": [
      "Gravitational waves are ripples in the curvature of spacetime that are generated in certain gravitational interactions and propagate as waves outward from their source at the speed of light. \n",
      "\n",
      "On February 11, 2016, the LIGO and Virgo Scientific Collaboration announced they had made the first observation of gravitational waves. \n",
      "\n",
      "In 2017, the Nobel Prize in Physics was awarded to Rainer Weiss, Kip Thorne and Barry Barish for their role in the detection of gravitational waves.[16][17][18]\n"
     ]
    }
   ],
   "source": [
    "a=open(\"gravitational_waves.txt\",\"r\")\n",
    "text=a.readlines()\n",
    "for line in text:\n",
    "    print(line)"
   ]
  },
  {
   "cell_type": "code",
   "execution_count": 14,
   "metadata": {
    "collapsed": false
   },
   "outputs": [
    {
     "name": "stdout",
     "output_type": "stream",
     "text": [
      "Gravitational waves are ripples in the curvature of spacetime that are generated in certain gravitational interactions and propagate as waves outward from their source at the speed of light. \n",
      "\n",
      "On February 11, 2016, the LIGO and Virgo Scientific Collaboration announced they had made the first observation of gravitational waves. \n",
      "\n",
      "In 2017, the Nobel Prize in Physics was awarded to Rainer Weiss, Kip Thorne and Barry Barish for their role in the detection of gravitational waves.[16][17][18]\n"
     ]
    }
   ],
   "source": [
    "with open(\"gravitational_waves.txt\", \"r\") as lines:\n",
    "    for line in lines:\n",
    "        print(line)"
   ]
  },
  {
   "cell_type": "markdown",
   "metadata": {},
   "source": [
    "#### Writing Files"
   ]
  },
  {
   "cell_type": "code",
   "execution_count": 15,
   "metadata": {
    "collapsed": true
   },
   "outputs": [],
   "source": [
    "a=open('temp.txt',\"w\")\n",
    "a.write(\"the wheels on the bus goes round and round, all thru the town!\")\n",
    "a.close()"
   ]
  },
  {
   "cell_type": "markdown",
   "metadata": {
    "collapsed": true
   },
   "source": [
    "#### Database Operations"
   ]
  },
  {
   "cell_type": "code",
   "execution_count": 2,
   "metadata": {
    "collapsed": true
   },
   "outputs": [],
   "source": [
    "sqlite_file = \"testDb\""
   ]
  },
  {
   "cell_type": "code",
   "execution_count": 3,
   "metadata": {
    "collapsed": true
   },
   "outputs": [],
   "source": [
    "import sqlite3\n",
    "conn = sqlite3.connect(sqlite_file)\n",
    "c = conn.cursor()"
   ]
  },
  {
   "cell_type": "code",
   "execution_count": 4,
   "metadata": {
    "collapsed": true
   },
   "outputs": [],
   "source": [
    "# Creating a new SQLite table with 1 column\n",
    "c.execute('CREATE TABLE users (name string)');\n",
    "conn.commit()\n",
    "conn.close()"
   ]
  },
  {
   "cell_type": "code",
   "execution_count": 10,
   "metadata": {
    "collapsed": true
   },
   "outputs": [],
   "source": [
    "conn = sqlite3.connect(sqlite_file)\n",
    "c = conn.cursor()\n",
    "c.execute(\"INSERT INTO users (name) VALUES ('test1')\");\n",
    "conn.commit()\n",
    "conn.close()"
   ]
  },
  {
   "cell_type": "code",
   "execution_count": 11,
   "metadata": {
    "collapsed": false
   },
   "outputs": [
    {
     "name": "stdout",
     "output_type": "stream",
     "text": [
      "[('test',), ('test1',)]\n"
     ]
    }
   ],
   "source": [
    "conn = sqlite3.connect(sqlite_file)\n",
    "c = conn.cursor()\n",
    "c.execute('SELECT * FROM users');\n",
    "all_rows = c.fetchall()\n",
    "print(all_rows)"
   ]
  },
  {
   "cell_type": "code",
   "execution_count": null,
   "metadata": {
    "collapsed": true
   },
   "outputs": [],
   "source": []
  }
 ],
 "metadata": {
  "anaconda-cloud": {},
  "kernelspec": {
   "display_name": "Python [Root]",
   "language": "python",
   "name": "Python [Root]"
  },
  "language_info": {
   "codemirror_mode": {
    "name": "ipython",
    "version": 3
   },
   "file_extension": ".py",
   "mimetype": "text/x-python",
   "name": "python",
   "nbconvert_exporter": "python",
   "pygments_lexer": "ipython3",
   "version": "3.5.2"
  }
 },
 "nbformat": 4,
 "nbformat_minor": 2
}
